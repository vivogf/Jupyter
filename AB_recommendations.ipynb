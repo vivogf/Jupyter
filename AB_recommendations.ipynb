{
 "cells": [
  {
   "cell_type": "markdown",
   "metadata": {
    "id": "u98L9TgH0eMk"
   },
   "source": [
    "# Разработка A/B-тестирования и анализ результатов\n",
    "\n",
    "Вы работаете продуктовым аналитиком в компании, которая разрабатывает развлекательное приложение с функцией «бесконечной» ленты, как, например, в приложениях с короткими видео. В вашем приложении существует две модели монетизации: первая — ежемесячная платная подписка, которая позволяет пользователям смотреть ленту без рекламы, вторая — демонстрация рекламы для пользователей, которые ещё не оформили подписку.\n",
    "\n",
    "Команда разработчиков рекомендательных систем создала новый алгоритм рекомендаций, который, по их мнению, будет показывать более интересный контент для каждого пользователя. Вас, как аналитика, просят помочь рассчитать параметры A/B-теста, который позволит проверить эту гипотезу, и проанализировать его результаты."
   ]
  },
  {
   "cell_type": "markdown",
   "metadata": {
    "id": "LJBRALHs0eMf"
   },
   "source": [
    "## Описание данных\n",
    "\n",
    "- `sessions_project_history.csv` — таблица с историческими данными по сессиям пользователей на период с 2025-08-15 по 2025-09-23. Путь к файлу: `/datasets/sessions_project_history.csv`.\n",
    "\n",
    "- `sessions_project_test_part.csv` — таблица с данными за первый день проведения A/B-теста, то есть за 2025-10-14. Путь к файлу: `/datasets/sessions_project_test_part.csv`.\n",
    "\n",
    "- `sessions_project_test.csv` — таблица с данными за весь период проведения A/B-теста, то есть с 2025-10-14 по 2025-11-02. Путь к файлу: `/datasets/sessions_project_test.csv`.\n",
    "\n",
    "У этих таблиц почти совпадает структура и содержание колонок, различаются лишь периоды наблюдения.\n",
    "\n",
    "Поля таблиц `sessions_project_history.csv`, `sessions_project_test.csv`, `sessions_project_test_part.csv`:\n",
    "\n",
    "- `user_id` — идентификатор пользователя;\n",
    "\n",
    "- `session_id` — идентификатор сессии в приложении;\n",
    "\n",
    "- `session_date` — дата сессии;\n",
    "\n",
    "- `session_start_ts` — дата и время начала сессии;\n",
    "\n",
    "- `install_date` — дата установки приложения;\n",
    "\n",
    "- `session_number` — порядковый номер сессии для конкретного пользователя;\n",
    "\n",
    "- `registration_flag` — является ли пользователь зарегистрированным;\n",
    "\n",
    "- `page_counter` — количество просмотренных страниц во время сессии;\n",
    "\n",
    "- `region` — регион пользователя;\n",
    "\n",
    "- `device` — тип устройства пользователя;\n",
    "\n",
    "- `test_group` — тестовая группа (в таблице с историческими данными этого столбца нет)."
   ]
  },
  {
   "cell_type": "markdown",
   "metadata": {},
   "source": [
    "#### План работы\n",
    "\n",
    "**Цель проекта:** Оценить эффективность двух версий интерфейса мобильного приложения для повышения вовлеченности пользователей и улучшения ключевых метрик.\n",
    "\n",
    "Основные вопросы исследования:\n",
    "- Какая из версий интерфейса (A или B) демонстрирует лучшие показатели?\n",
    "- Какие рекомендации можно сформулировать для дальнейшего развития продукта?\n",
    "\n",
    "Методология исследования\n",
    "Сбор данных:\n",
    "- Формирование выборки пользователей\n",
    "- Случайное распределение пользователей по тестовым группам A и B\n",
    "- Сбор данных о взаимодействии пользователей с приложением в период октября 2025 года\n",
    "\n",
    "Основные метрики для анализа:\n",
    "- Количество просмотренных страниц (page_counter)\n",
    "- Коэффициент регистрации (registration_flag)\n",
    "- Количество и качество сессий (good_session)\n",
    "\n",
    "Анализ данных\n",
    "Предварительная обработка:\n",
    "- Проверка целостности и качества данных\n",
    "- Фильтрация нерепрезентативных данных\n",
    "- Сегментация пользователей по устройствам (Android, iPhone, PC, Mac) и регионам (CIS, EU, MENA)\n",
    "\n",
    "Анализ по устройствам:\n",
    "- Сравнение показателей групп A и B для разных типов устройств\n",
    "\n",
    "Анализ по регионам:\n",
    "- Сравнение эффективности версий в разных географических зонах\n",
    "\n",
    "Статистическая оценка результатов\n",
    "Проверка статистических гипотез:\n",
    "- Формулировка нулевой и альтернативной гипотез\n",
    "- Расчет статистической значимости различий между группами\n",
    "- Оценка достоверности результатов\n",
    "\n",
    "Выводы и рекомендации\n",
    "Интерпретация результатов:\n",
    "- Определение наиболее эффективной версии интерфейса\n",
    "\n",
    "Практические рекомендации:\n",
    "- Стратегия полномасштабного внедрения успешной версии"
   ]
  },
  {
   "cell_type": "markdown",
   "metadata": {},
   "source": [
    "#### Обновляем модули и библиотеки"
   ]
  },
  {
   "cell_type": "code",
   "execution_count": 1,
   "metadata": {
    "scrolled": true
   },
   "outputs": [],
   "source": [
    "#pip install --upgrade pandas numpy scipy matplotlib seaborn statsmodels"
   ]
  },
  {
   "cell_type": "code",
   "execution_count": 2,
   "metadata": {},
   "outputs": [],
   "source": [
    "# Импортируем необходимые библиотеки\n",
    "import pandas as pd\n",
    "import numpy as np\n",
    "import matplotlib.pyplot as plt\n",
    "import seaborn as sns\n",
    "from scipy.stats import ttest_ind\n",
    "from statsmodels.stats.proportion import proportions_ztest"
   ]
  },
  {
   "cell_type": "markdown",
   "metadata": {
    "id": "UpOucjID0eMl"
   },
   "source": [
    "#### Работа с историческими данными (EDA)"
   ]
  },
  {
   "cell_type": "markdown",
   "metadata": {
    "id": "8iJMtL-30eMl"
   },
   "source": [
    "#### Загрузка исторических данных\n"
   ]
  },
  {
   "cell_type": "code",
   "execution_count": 3,
   "metadata": {
    "id": "6TPR2-1RPboT"
   },
   "outputs": [],
   "source": [
    "#Сохраняем в датафрейм наши данные\n",
    "try:\n",
    "    sessions_history = pd.read_csv('/home/ray/Загрузки/Ya.Practikum/Sprint_10 A-B/sessions_project_history.csv') \n",
    "except:\n",
    "    sessions_history = pd.read_csv('https://code.s3.yandex.net/datasets/sessions_project_history.csv')"
   ]
  },
  {
   "cell_type": "code",
   "execution_count": 4,
   "metadata": {},
   "outputs": [
    {
     "name": "stdout",
     "output_type": "stream",
     "text": [
      "<class 'pandas.core.frame.DataFrame'>\n",
      "RangeIndex: 435924 entries, 0 to 435923\n",
      "Data columns (total 10 columns):\n",
      " #   Column             Non-Null Count   Dtype \n",
      "---  ------             --------------   ----- \n",
      " 0   user_id            435924 non-null  object\n",
      " 1   session_id         435924 non-null  object\n",
      " 2   session_date       435924 non-null  object\n",
      " 3   session_start_ts   435924 non-null  object\n",
      " 4   install_date       435924 non-null  object\n",
      " 5   session_number     435924 non-null  int64 \n",
      " 6   registration_flag  435924 non-null  int64 \n",
      " 7   page_counter       435924 non-null  int64 \n",
      " 8   region             435924 non-null  object\n",
      " 9   device             435924 non-null  object\n",
      "dtypes: int64(3), object(7)\n",
      "memory usage: 33.3+ MB\n",
      "None\n"
     ]
    },
    {
     "data": {
      "text/html": [
       "<div>\n",
       "<style scoped>\n",
       "    .dataframe tbody tr th:only-of-type {\n",
       "        vertical-align: middle;\n",
       "    }\n",
       "\n",
       "    .dataframe tbody tr th {\n",
       "        vertical-align: top;\n",
       "    }\n",
       "\n",
       "    .dataframe thead th {\n",
       "        text-align: right;\n",
       "    }\n",
       "</style>\n",
       "<table border=\"1\" class=\"dataframe\">\n",
       "  <thead>\n",
       "    <tr style=\"text-align: right;\">\n",
       "      <th></th>\n",
       "      <th>user_id</th>\n",
       "      <th>session_id</th>\n",
       "      <th>session_date</th>\n",
       "      <th>session_start_ts</th>\n",
       "      <th>install_date</th>\n",
       "      <th>session_number</th>\n",
       "      <th>registration_flag</th>\n",
       "      <th>page_counter</th>\n",
       "      <th>region</th>\n",
       "      <th>device</th>\n",
       "    </tr>\n",
       "  </thead>\n",
       "  <tbody>\n",
       "    <tr>\n",
       "      <th>0</th>\n",
       "      <td>E302123B7000BFE4</td>\n",
       "      <td>F9AF61A0C2023832</td>\n",
       "      <td>2025-08-15</td>\n",
       "      <td>2025-08-15 17:47:35</td>\n",
       "      <td>2025-08-15</td>\n",
       "      <td>1</td>\n",
       "      <td>0</td>\n",
       "      <td>3</td>\n",
       "      <td>CIS</td>\n",
       "      <td>iPhone</td>\n",
       "    </tr>\n",
       "    <tr>\n",
       "      <th>1</th>\n",
       "      <td>2530F72E221829FB</td>\n",
       "      <td>85003A206CBDAC6F</td>\n",
       "      <td>2025-08-15</td>\n",
       "      <td>2025-08-15 16:42:14</td>\n",
       "      <td>2025-08-15</td>\n",
       "      <td>1</td>\n",
       "      <td>0</td>\n",
       "      <td>4</td>\n",
       "      <td>MENA</td>\n",
       "      <td>Android</td>\n",
       "    </tr>\n",
       "    <tr>\n",
       "      <th>2</th>\n",
       "      <td>876E020A4FC512F5</td>\n",
       "      <td>3677423E49D72DEE</td>\n",
       "      <td>2025-08-15</td>\n",
       "      <td>2025-08-15 12:30:00</td>\n",
       "      <td>2025-08-15</td>\n",
       "      <td>1</td>\n",
       "      <td>0</td>\n",
       "      <td>4</td>\n",
       "      <td>EU</td>\n",
       "      <td>PC</td>\n",
       "    </tr>\n",
       "    <tr>\n",
       "      <th>3</th>\n",
       "      <td>2640B349E1D81584</td>\n",
       "      <td>956B45F5915CA225</td>\n",
       "      <td>2025-08-15</td>\n",
       "      <td>2025-08-15 15:31:31</td>\n",
       "      <td>2025-08-15</td>\n",
       "      <td>1</td>\n",
       "      <td>0</td>\n",
       "      <td>4</td>\n",
       "      <td>CIS</td>\n",
       "      <td>Android</td>\n",
       "    </tr>\n",
       "    <tr>\n",
       "      <th>4</th>\n",
       "      <td>94E1CBFAEF1F5EE9</td>\n",
       "      <td>83BF0DA35F9F1F40</td>\n",
       "      <td>2025-08-15</td>\n",
       "      <td>2025-08-15 21:33:53</td>\n",
       "      <td>2025-08-15</td>\n",
       "      <td>1</td>\n",
       "      <td>0</td>\n",
       "      <td>3</td>\n",
       "      <td>CIS</td>\n",
       "      <td>Android</td>\n",
       "    </tr>\n",
       "  </tbody>\n",
       "</table>\n",
       "</div>"
      ],
      "text/plain": [
       "            user_id        session_id session_date     session_start_ts  \\\n",
       "0  E302123B7000BFE4  F9AF61A0C2023832   2025-08-15  2025-08-15 17:47:35   \n",
       "1  2530F72E221829FB  85003A206CBDAC6F   2025-08-15  2025-08-15 16:42:14   \n",
       "2  876E020A4FC512F5  3677423E49D72DEE   2025-08-15  2025-08-15 12:30:00   \n",
       "3  2640B349E1D81584  956B45F5915CA225   2025-08-15  2025-08-15 15:31:31   \n",
       "4  94E1CBFAEF1F5EE9  83BF0DA35F9F1F40   2025-08-15  2025-08-15 21:33:53   \n",
       "\n",
       "  install_date  session_number  registration_flag  page_counter region  \\\n",
       "0   2025-08-15               1                  0             3    CIS   \n",
       "1   2025-08-15               1                  0             4   MENA   \n",
       "2   2025-08-15               1                  0             4     EU   \n",
       "3   2025-08-15               1                  0             4    CIS   \n",
       "4   2025-08-15               1                  0             3    CIS   \n",
       "\n",
       "    device  \n",
       "0   iPhone  \n",
       "1  Android  \n",
       "2       PC  \n",
       "3  Android  \n",
       "4  Android  "
      ]
     },
     "execution_count": 4,
     "metadata": {},
     "output_type": "execute_result"
    }
   ],
   "source": [
    "# Выводим базовую информацию о датафрейме\n",
    "print(sessions_history.info())\n",
    "sessions_history.head()"
   ]
  },
  {
   "cell_type": "markdown",
   "metadata": {
    "id": "qTDoiODz0eMo"
   },
   "source": [
    "#### Знакомство с данными\n",
    "- Для каждого уникального пользователя `user_id` рассчитываем количество уникальных сессий `session_id`.\n",
    "- Выведим на экран все данные из таблицы `sessions_history` для одного пользователя с наибольшим количеством сессий.\n",
    "- Изучаем таблицу для одного пользователя, чтобы лучше понять логику формирования каждого столбца данных"
   ]
  },
  {
   "cell_type": "code",
   "execution_count": 5,
   "metadata": {},
   "outputs": [
    {
     "data": {
      "text/html": [
       "<div>\n",
       "<style scoped>\n",
       "    .dataframe tbody tr th:only-of-type {\n",
       "        vertical-align: middle;\n",
       "    }\n",
       "\n",
       "    .dataframe tbody tr th {\n",
       "        vertical-align: top;\n",
       "    }\n",
       "\n",
       "    .dataframe thead th {\n",
       "        text-align: right;\n",
       "    }\n",
       "</style>\n",
       "<table border=\"1\" class=\"dataframe\">\n",
       "  <thead>\n",
       "    <tr style=\"text-align: right;\">\n",
       "      <th></th>\n",
       "      <th>user_id</th>\n",
       "      <th>session_id</th>\n",
       "      <th>session_date</th>\n",
       "      <th>session_start_ts</th>\n",
       "      <th>install_date</th>\n",
       "      <th>session_number</th>\n",
       "      <th>registration_flag</th>\n",
       "      <th>page_counter</th>\n",
       "      <th>region</th>\n",
       "      <th>device</th>\n",
       "    </tr>\n",
       "  </thead>\n",
       "  <tbody>\n",
       "    <tr>\n",
       "      <th>115558</th>\n",
       "      <td>10E0DEFC1ABDBBE0</td>\n",
       "      <td>B8F0423BBFFCF5DC</td>\n",
       "      <td>2025-08-14</td>\n",
       "      <td>2025-08-14 13:57:39</td>\n",
       "      <td>2025-08-14</td>\n",
       "      <td>1</td>\n",
       "      <td>0</td>\n",
       "      <td>4</td>\n",
       "      <td>CIS</td>\n",
       "      <td>Android</td>\n",
       "    </tr>\n",
       "    <tr>\n",
       "      <th>191751</th>\n",
       "      <td>10E0DEFC1ABDBBE0</td>\n",
       "      <td>87CA2FA549473837</td>\n",
       "      <td>2025-08-15</td>\n",
       "      <td>2025-08-15 16:42:10</td>\n",
       "      <td>2025-08-14</td>\n",
       "      <td>2</td>\n",
       "      <td>0</td>\n",
       "      <td>3</td>\n",
       "      <td>CIS</td>\n",
       "      <td>Android</td>\n",
       "    </tr>\n",
       "    <tr>\n",
       "      <th>239370</th>\n",
       "      <td>10E0DEFC1ABDBBE0</td>\n",
       "      <td>4ADD8011DCDCE318</td>\n",
       "      <td>2025-08-16</td>\n",
       "      <td>2025-08-16 19:53:21</td>\n",
       "      <td>2025-08-14</td>\n",
       "      <td>3</td>\n",
       "      <td>0</td>\n",
       "      <td>3</td>\n",
       "      <td>CIS</td>\n",
       "      <td>Android</td>\n",
       "    </tr>\n",
       "    <tr>\n",
       "      <th>274629</th>\n",
       "      <td>10E0DEFC1ABDBBE0</td>\n",
       "      <td>DF0FD0E09BF1F3D7</td>\n",
       "      <td>2025-08-17</td>\n",
       "      <td>2025-08-17 15:03:43</td>\n",
       "      <td>2025-08-14</td>\n",
       "      <td>4</td>\n",
       "      <td>0</td>\n",
       "      <td>1</td>\n",
       "      <td>CIS</td>\n",
       "      <td>Android</td>\n",
       "    </tr>\n",
       "    <tr>\n",
       "      <th>302501</th>\n",
       "      <td>10E0DEFC1ABDBBE0</td>\n",
       "      <td>3C221774B4DE6885</td>\n",
       "      <td>2025-08-18</td>\n",
       "      <td>2025-08-18 17:29:14</td>\n",
       "      <td>2025-08-14</td>\n",
       "      <td>5</td>\n",
       "      <td>0</td>\n",
       "      <td>4</td>\n",
       "      <td>CIS</td>\n",
       "      <td>Android</td>\n",
       "    </tr>\n",
       "    <tr>\n",
       "      <th>325557</th>\n",
       "      <td>10E0DEFC1ABDBBE0</td>\n",
       "      <td>031BD7A67048105B</td>\n",
       "      <td>2025-08-19</td>\n",
       "      <td>2025-08-19 13:23:55</td>\n",
       "      <td>2025-08-14</td>\n",
       "      <td>6</td>\n",
       "      <td>0</td>\n",
       "      <td>2</td>\n",
       "      <td>CIS</td>\n",
       "      <td>Android</td>\n",
       "    </tr>\n",
       "    <tr>\n",
       "      <th>345336</th>\n",
       "      <td>10E0DEFC1ABDBBE0</td>\n",
       "      <td>FF4315CF4AD4B100</td>\n",
       "      <td>2025-08-20</td>\n",
       "      <td>2025-08-20 19:31:54</td>\n",
       "      <td>2025-08-14</td>\n",
       "      <td>7</td>\n",
       "      <td>0</td>\n",
       "      <td>2</td>\n",
       "      <td>CIS</td>\n",
       "      <td>Android</td>\n",
       "    </tr>\n",
       "    <tr>\n",
       "      <th>377532</th>\n",
       "      <td>10E0DEFC1ABDBBE0</td>\n",
       "      <td>4045FEA0747203B4</td>\n",
       "      <td>2025-08-22</td>\n",
       "      <td>2025-08-22 17:54:13</td>\n",
       "      <td>2025-08-14</td>\n",
       "      <td>8</td>\n",
       "      <td>0</td>\n",
       "      <td>2</td>\n",
       "      <td>CIS</td>\n",
       "      <td>Android</td>\n",
       "    </tr>\n",
       "    <tr>\n",
       "      <th>403538</th>\n",
       "      <td>10E0DEFC1ABDBBE0</td>\n",
       "      <td>344B086C421C7F37</td>\n",
       "      <td>2025-08-24</td>\n",
       "      <td>2025-08-24 14:46:13</td>\n",
       "      <td>2025-08-14</td>\n",
       "      <td>9</td>\n",
       "      <td>0</td>\n",
       "      <td>2</td>\n",
       "      <td>CIS</td>\n",
       "      <td>Android</td>\n",
       "    </tr>\n",
       "    <tr>\n",
       "      <th>414743</th>\n",
       "      <td>10E0DEFC1ABDBBE0</td>\n",
       "      <td>054F20BA371E4C9D</td>\n",
       "      <td>2025-08-25</td>\n",
       "      <td>2025-08-25 18:36:41</td>\n",
       "      <td>2025-08-14</td>\n",
       "      <td>10</td>\n",
       "      <td>0</td>\n",
       "      <td>3</td>\n",
       "      <td>CIS</td>\n",
       "      <td>Android</td>\n",
       "    </tr>\n",
       "  </tbody>\n",
       "</table>\n",
       "</div>"
      ],
      "text/plain": [
       "                 user_id        session_id session_date     session_start_ts  \\\n",
       "115558  10E0DEFC1ABDBBE0  B8F0423BBFFCF5DC   2025-08-14  2025-08-14 13:57:39   \n",
       "191751  10E0DEFC1ABDBBE0  87CA2FA549473837   2025-08-15  2025-08-15 16:42:10   \n",
       "239370  10E0DEFC1ABDBBE0  4ADD8011DCDCE318   2025-08-16  2025-08-16 19:53:21   \n",
       "274629  10E0DEFC1ABDBBE0  DF0FD0E09BF1F3D7   2025-08-17  2025-08-17 15:03:43   \n",
       "302501  10E0DEFC1ABDBBE0  3C221774B4DE6885   2025-08-18  2025-08-18 17:29:14   \n",
       "325557  10E0DEFC1ABDBBE0  031BD7A67048105B   2025-08-19  2025-08-19 13:23:55   \n",
       "345336  10E0DEFC1ABDBBE0  FF4315CF4AD4B100   2025-08-20  2025-08-20 19:31:54   \n",
       "377532  10E0DEFC1ABDBBE0  4045FEA0747203B4   2025-08-22  2025-08-22 17:54:13   \n",
       "403538  10E0DEFC1ABDBBE0  344B086C421C7F37   2025-08-24  2025-08-24 14:46:13   \n",
       "414743  10E0DEFC1ABDBBE0  054F20BA371E4C9D   2025-08-25  2025-08-25 18:36:41   \n",
       "\n",
       "       install_date  session_number  registration_flag  page_counter region  \\\n",
       "115558   2025-08-14               1                  0             4    CIS   \n",
       "191751   2025-08-14               2                  0             3    CIS   \n",
       "239370   2025-08-14               3                  0             3    CIS   \n",
       "274629   2025-08-14               4                  0             1    CIS   \n",
       "302501   2025-08-14               5                  0             4    CIS   \n",
       "325557   2025-08-14               6                  0             2    CIS   \n",
       "345336   2025-08-14               7                  0             2    CIS   \n",
       "377532   2025-08-14               8                  0             2    CIS   \n",
       "403538   2025-08-14               9                  0             2    CIS   \n",
       "414743   2025-08-14              10                  0             3    CIS   \n",
       "\n",
       "         device  \n",
       "115558  Android  \n",
       "191751  Android  \n",
       "239370  Android  \n",
       "274629  Android  \n",
       "302501  Android  \n",
       "325557  Android  \n",
       "345336  Android  \n",
       "377532  Android  \n",
       "403538  Android  \n",
       "414743  Android  "
      ]
     },
     "execution_count": 5,
     "metadata": {},
     "output_type": "execute_result"
    }
   ],
   "source": [
    "# Находим все сессии самого активного пользователя\n",
    "sh_grp = sessions_history['user_id'].value_counts().sort_values(ascending=False).idxmax()\n",
    "sessions_history[sessions_history['user_id'] == sh_grp]"
   ]
  },
  {
   "cell_type": "markdown",
   "metadata": {
    "id": "CmcGpJTP0eMq"
   },
   "source": [
    "#### Анализ числа регистраций\n",
    "Одна из важнейших метрик продукта — число зарегистрированных пользователей. Используя исторические данные, визуализируем, как менялось число регистраций в приложении за время его существования.\n"
   ]
  },
  {
   "cell_type": "code",
   "execution_count": 6,
   "metadata": {
    "id": "tN_6Ml3EPatS"
   },
   "outputs": [],
   "source": [
    "# Агрегируем количество уникальных и зарегистрированных пользователей по дням\n",
    "sh_agg = sessions_history.groupby('session_date').agg(\n",
    "    unique_users=('user_id', 'nunique'),\n",
    "    total_registrations=('registration_flag', 'sum'))"
   ]
  },
  {
   "cell_type": "code",
   "execution_count": 7,
   "metadata": {},
   "outputs": [],
   "source": [
    "# Выделяем уникальные дни для оси Х\n",
    "sh_agg_x = sh_agg.index.unique()"
   ]
  },
  {
   "cell_type": "code",
   "execution_count": 8,
   "metadata": {},
   "outputs": [],
   "source": [
    "# Выделяем агрегированные столбцы для осей Y\n",
    "sh_agg_y1 = sh_agg['unique_users']\n",
    "sh_agg_y2 = sh_agg['total_registrations']"
   ]
  },
  {
   "cell_type": "code",
   "execution_count": 9,
   "metadata": {},
   "outputs": [
    {
     "data": {
      "image/png": "[encoded data removed]",
      "text/plain": [
       "<Figure size 1400x600 with 1 Axes>"
      ]
     },
     "metadata": {},
     "output_type": "display_data"
    }
   ],
   "source": [
    "# Визуализируем\n",
    "plt.figure(figsize=(14, 6))\n",
    "\n",
    "plt.plot(sh_agg_x, sh_agg_y1, label='unique_users', color='yellowgreen', marker='o')\n",
    "plt.plot(sh_agg_x, sh_agg_y2, label='total_registrations', color='darkgreen', marker='o')\n",
    "\n",
    "plt.title('Количество уникальных и зарегистрированных пользователей по дням')\n",
    "plt.xlabel('Дни')\n",
    "plt.ylabel('Количество')\n",
    "plt.legend()\n",
    "plt.grid(linewidth=0.5, alpha=0.7)\n",
    "plt.xticks(rotation=45) \n",
    "plt.tight_layout()  "
   ]
  },
  {
   "cell_type": "markdown",
   "metadata": {},
   "source": [
    "**Наблюдения**\n",
    "\n",
    "Общие тенденции\n",
    "- Значительный разрыв между количеством уникальных пользователей и количеством регистраций — число ежедневных посетителей в 5-10 раз превышает число регистраций\n",
    "- Низкая конверсия в регистрацию — большинство уникальных пользователей не регистрируются\n",
    "\n",
    "Динамика посещаемости\n",
    "- Начальный рост: с начала августа 2025 года наблюдается стремительный рост уникальных пользователей с ~4000 до ~17500\n",
    "- Период стабильности: середина августа - начало сентября показывает стабильно высокие показатели (12000-15000 уникальных пользователей)\n",
    "- Резкий спад: с начала сентября происходит стремительное снижение посещаемости до практически нулевых значений к концу периода"
   ]
  },
  {
   "cell_type": "code",
   "execution_count": 10,
   "metadata": {},
   "outputs": [],
   "source": [
    "# Создаем серию с соотношением зарегистрированных к уникальным пользователям по дням в %\n",
    "sh_agg_rel = sh_agg['total_registrations'] / sh_agg['unique_users'] * 100"
   ]
  },
  {
   "cell_type": "code",
   "execution_count": 11,
   "metadata": {},
   "outputs": [
    {
     "data": {
      "image/png": "[encoded data removed]",
      "text/plain": [
       "<Figure size 1400x600 with 1 Axes>"
      ]
     },
     "metadata": {},
     "output_type": "display_data"
    }
   ],
   "source": [
    "# Визуализируем\n",
    "plt.figure(figsize=(14, 6))\n",
    "\n",
    "plt.plot(sh_agg_x, sh_agg_rel, label='unique_users', color='green', marker='o',)\n",
    "\n",
    "plt.title('Соотношение зарегистрированных к уникальным пользователям по дням')\n",
    "plt.xlabel('Дни')\n",
    "plt.ylabel('Соотношение (%)')\n",
    "plt.legend()\n",
    "plt.grid(linewidth=0.5, alpha=0.7)\n",
    "plt.xticks(rotation=45) \n",
    "plt.tight_layout()"
   ]
  },
  {
   "cell_type": "markdown",
   "metadata": {},
   "source": [
    "**Наблюдения**\n",
    "- Стабильный рост конверсии: в течение всего периода наблюдается тенденция к увеличению доли регистрирующихся пользователей\n",
    "- Начальные значения: в начале августа конверсия составляла около 4-5%\n",
    "- Середина периода: в течение августа показатель вырос до 7-8%\n",
    "- Финальная часть: в конце наблюдаемого периода (конец сентября) конверсия достигла пиковых значений 10-12%\n",
    "\n",
    "Парадоксальная ситуация\n",
    "- Обратная корреляция с трафиком: несмотря на то, что общее количество уникальных пользователей в сентябре резко падает, процент регистраций значительно растет\n",
    "- Экстремум в конце периода: пиковое значение конверсии (~12.5%) приходится на момент, когда общий трафик практически снизился до минимума\n"
   ]
  },
  {
   "cell_type": "markdown",
   "metadata": {
    "id": "UR7D7RhF0eMr"
   },
   "source": [
    "#### Анализ числа просмотренных страниц\n",
    "Другая важная метрика продукта — число просмотренных страниц в приложении. Чем больше страниц просмотрено, тем сильнее пользователь увлечён контентом, а значит, выше шансы на то, что он зарегистрируется и оплатит подписку."
   ]
  },
  {
   "cell_type": "code",
   "execution_count": 12,
   "metadata": {},
   "outputs": [],
   "source": [
    "# Создаем датафрейм с числом просмотренных страниц по их количеству\n",
    "sh_pages = sessions_history['page_counter'].value_counts().sort_index().reset_index()"
   ]
  },
  {
   "cell_type": "code",
   "execution_count": 13,
   "metadata": {
    "id": "cb6hPlVzPaSf"
   },
   "outputs": [
    {
     "data": {
      "image/png": "[encoded data removed]",
      "text/plain": [
       "<Figure size 900x500 with 1 Axes>"
      ]
     },
     "metadata": {},
     "output_type": "display_data"
    }
   ],
   "source": [
    "# Визуализируем\n",
    "plt.figure(figsize=(9, 5))\n",
    "\n",
    "sns.barplot(\n",
    "    x='page_counter',\n",
    "    y='count',\n",
    "    data=sh_pages,\n",
    "    hue='page_counter',\n",
    "    palette='crest',\n",
    "    legend=False)\n",
    "\n",
    "plt.title('Количество просмотренных страниц')\n",
    "plt.xlabel('Количество')\n",
    "plt.ylabel('Страницы')\n",
    "plt.show()"
   ]
  },
  {
   "cell_type": "markdown",
   "metadata": {
    "id": "xDltSpVP0eMr"
   },
   "source": [
    "#### Доля пользователей, просмотревших более четырёх страниц\n",
    "Продуктовая команда продукта считает, что сессии, в рамках которых пользователь просмотрел 4 и более страниц, говорят об удовлетворённости контентом и алгоритмами рекомендаций. Этот показатель является важной прокси-метрикой для продукта."
   ]
  },
  {
   "cell_type": "code",
   "execution_count": 14,
   "metadata": {
    "id": "iygaPfixPYMW"
   },
   "outputs": [],
   "source": [
    "# Создаем новый столбец 'good_session'\n",
    "sessions_history['good_session'] = np.where(sessions_history['page_counter'] >= 4, 1, 0)"
   ]
  },
  {
   "cell_type": "code",
   "execution_count": 15,
   "metadata": {},
   "outputs": [],
   "source": [
    "# Агрегируем количество \"хороших\" и остальных сессий по дням\n",
    "gs_agg = sessions_history.groupby('session_date').agg(\n",
    "    good_sessions=('good_session', 'sum'),\n",
    "    total_sessions=('good_session', 'count')).reset_index()"
   ]
  },
  {
   "cell_type": "code",
   "execution_count": 16,
   "metadata": {},
   "outputs": [],
   "source": [
    "# Отношение \"хороших\" сессий ко всем\n",
    "gs_rel = gs_agg['good_sessions'] / gs_agg['total_sessions'] * 100"
   ]
  },
  {
   "cell_type": "code",
   "execution_count": 17,
   "metadata": {},
   "outputs": [
    {
     "data": {
      "image/png": "[encoded data removed]",
      "text/plain": [
       "<Figure size 1400x600 with 1 Axes>"
      ]
     },
     "metadata": {},
     "output_type": "display_data"
    }
   ],
   "source": [
    "# Визуализируем\n",
    "plt.figure(figsize=(14, 6))\n",
    "\n",
    "plt.plot(\n",
    "    gs_agg['session_date'],\n",
    "    gs_rel,\n",
    "    marker='o',\n",
    "    color='green')\n",
    "\n",
    "plt.title('Доля пользователей, просмотревших 4+ страниц по дням')\n",
    "plt.xlabel('Дата')\n",
    "plt.ylabel('Процент \"хороших\" сессий (%)')\n",
    "plt.xticks(rotation=45)     \n",
    "plt.grid(linewidth=0.5, alpha=0.7)\n",
    "plt.tight_layout()"
   ]
  },
  {
   "cell_type": "markdown",
   "metadata": {},
   "source": [
    "**Наблюдения**\n",
    "- Устойчивость показателя \"хороших\" сессий: процент пользователей, просматривающих 4+ страниц, держится в узком коридоре 29-32% на протяжении всего периода\n",
    "- Отсутствие корреляции с другими метриками: глубина просмотра не зависит существенно ни от объема трафика, ни от конверсии\n",
    "- Незначительное снижение в конце: лишь в последние дни наблюдается некоторое уменьшение доли \"хороших\" сессий до ~29%, но данный отрезок имеет относительно малые выборки, поэтому график имеет такую сильную амплитуду\n"
   ]
  },
  {
   "cell_type": "markdown",
   "metadata": {
    "id": "21JcG77Y0eMt"
   },
   "source": [
    "### Подготовка к тесту\n",
    "При планировании теста необходимо проделать несколько важных шагов:\n",
    "- Определиться с целевой метрикой.\n",
    "- Рассчитать необходимый размер выборки.\n",
    "- Исходя из текущих значений трафика, рассчитать необходимую длительность проведения теста."
   ]
  },
  {
   "cell_type": "markdown",
   "metadata": {
    "id": "uzaeln270eMt"
   },
   "source": [
    "#### Расчёт размера выборки\n"
   ]
  },
  {
   "cell_type": "code",
   "execution_count": 18,
   "metadata": {
    "id": "zSxJyPGPNdaI"
   },
   "outputs": [
    {
     "name": "stdout",
     "output_type": "stream",
     "text": [
      "Необходимый размер выборки для каждой группы: 17441\n"
     ]
    }
   ],
   "source": [
    "from statsmodels.stats.power import NormalIndPower\n",
    "\n",
    "alpha = 0.05\n",
    "beta = 0.2\n",
    "power = 1 - beta\n",
    "mde = 0.03\n",
    "\n",
    "power_analysis = NormalIndPower()\n",
    "\n",
    "sample_size = power_analysis.solve_power(\n",
    "    effect_size = mde,\n",
    "    power = power,\n",
    "    alpha = alpha,\n",
    "    ratio = 1\n",
    ")\n",
    "\n",
    "print(f\"Необходимый размер выборки для каждой группы: {int(sample_size)}\")"
   ]
  },
  {
   "cell_type": "markdown",
   "metadata": {
    "id": "qLEv4RoV0eMu"
   },
   "source": [
    "#### Расчёт длительности A/B-теста\n"
   ]
  },
  {
   "cell_type": "code",
   "execution_count": 19,
   "metadata": {
    "id": "KZDRbryDOGHa"
   },
   "outputs": [
    {
     "name": "stdout",
     "output_type": "stream",
     "text": [
      "Рассчитанная длительность A/B-теста при текущем уровене трафика в 9907.36 пользователей в день составит 4 дня\n"
     ]
    }
   ],
   "source": [
    "from math import ceil\n",
    "\n",
    "avg_daily_users = round(sessions_history.groupby('session_date')['user_id'].nunique().mean(), 2)\n",
    "\n",
    "test_duration = ceil(sample_size * 2 / avg_daily_users)\n",
    "\n",
    "print(f\"Рассчитанная длительность A/B-теста при текущем уровене трафика в {avg_daily_users} пользователей в день составит {test_duration} дня\")"
   ]
  },
  {
   "cell_type": "markdown",
   "metadata": {
    "id": "ZuvtAdha0eMv"
   },
   "source": [
    "### Мониторинг А/В-теста"
   ]
  },
  {
   "cell_type": "markdown",
   "metadata": {
    "id": "jq5sE3Ya0eMv"
   },
   "source": [
    "####  Проверка распределения пользователей\n",
    "\n",
    "A/B-тест успешно запущен, и уже доступны данные за первые три дня. На этом этапе нужно убедиться, что всё идёт хорошо: пользователи разделены правильным образом, а интересующие нас метрики корректно считаются.\n"
   ]
  },
  {
   "cell_type": "code",
   "execution_count": 20,
   "metadata": {
    "id": "G1bqIzDJOUiz"
   },
   "outputs": [],
   "source": [
    "#Сохраняем в датафрейм наши данные с первого дня А/В теста\n",
    "try:\n",
    "    sessions_test_part = pd.read_csv('/home/ray/Загрузки/Ya.Practikum/Sprint_10 A-B/sessions_project_test_part.csv') \n",
    "except:\n",
    "    sessions_test_part = pd.read_csv('https://code.s3.yandex.net/datasets/sessions_project_test_part.csv')"
   ]
  },
  {
   "cell_type": "code",
   "execution_count": 21,
   "metadata": {},
   "outputs": [
    {
     "name": "stdout",
     "output_type": "stream",
     "text": [
      "<class 'pandas.core.frame.DataFrame'>\n",
      "RangeIndex: 3130 entries, 0 to 3129\n",
      "Data columns (total 11 columns):\n",
      " #   Column             Non-Null Count  Dtype \n",
      "---  ------             --------------  ----- \n",
      " 0   user_id            3130 non-null   object\n",
      " 1   session_id         3130 non-null   object\n",
      " 2   session_date       3130 non-null   object\n",
      " 3   session_start_ts   3130 non-null   object\n",
      " 4   install_date       3130 non-null   object\n",
      " 5   session_number     3130 non-null   int64 \n",
      " 6   registration_flag  3130 non-null   int64 \n",
      " 7   page_counter       3130 non-null   int64 \n",
      " 8   region             3130 non-null   object\n",
      " 9   device             3130 non-null   object\n",
      " 10  test_group         3130 non-null   object\n",
      "dtypes: int64(3), object(8)\n",
      "memory usage: 269.1+ KB\n",
      "None\n"
     ]
    },
    {
     "data": {
      "text/html": [
       "<div>\n",
       "<style scoped>\n",
       "    .dataframe tbody tr th:only-of-type {\n",
       "        vertical-align: middle;\n",
       "    }\n",
       "\n",
       "    .dataframe tbody tr th {\n",
       "        vertical-align: top;\n",
       "    }\n",
       "\n",
       "    .dataframe thead th {\n",
       "        text-align: right;\n",
       "    }\n",
       "</style>\n",
       "<table border=\"1\" class=\"dataframe\">\n",
       "  <thead>\n",
       "    <tr style=\"text-align: right;\">\n",
       "      <th></th>\n",
       "      <th>user_id</th>\n",
       "      <th>session_id</th>\n",
       "      <th>session_date</th>\n",
       "      <th>session_start_ts</th>\n",
       "      <th>install_date</th>\n",
       "      <th>session_number</th>\n",
       "      <th>registration_flag</th>\n",
       "      <th>page_counter</th>\n",
       "      <th>region</th>\n",
       "      <th>device</th>\n",
       "      <th>test_group</th>\n",
       "    </tr>\n",
       "  </thead>\n",
       "  <tbody>\n",
       "    <tr>\n",
       "      <th>0</th>\n",
       "      <td>3404844B53442747</td>\n",
       "      <td>B4901323BD537E45</td>\n",
       "      <td>2025-10-14</td>\n",
       "      <td>2025-10-14 19:28:49</td>\n",
       "      <td>2025-10-14</td>\n",
       "      <td>1</td>\n",
       "      <td>0</td>\n",
       "      <td>3</td>\n",
       "      <td>CIS</td>\n",
       "      <td>Android</td>\n",
       "      <td>B</td>\n",
       "    </tr>\n",
       "    <tr>\n",
       "      <th>1</th>\n",
       "      <td>3A2BF4D364E62D89</td>\n",
       "      <td>216FC619308F8788</td>\n",
       "      <td>2025-10-14</td>\n",
       "      <td>2025-10-14 21:11:04</td>\n",
       "      <td>2025-10-14</td>\n",
       "      <td>1</td>\n",
       "      <td>0</td>\n",
       "      <td>3</td>\n",
       "      <td>MENA</td>\n",
       "      <td>iPhone</td>\n",
       "      <td>A</td>\n",
       "    </tr>\n",
       "    <tr>\n",
       "      <th>2</th>\n",
       "      <td>79CDAE11E32B1597</td>\n",
       "      <td>EDFCE4AC1A504074</td>\n",
       "      <td>2025-10-14</td>\n",
       "      <td>2025-10-14 21:44:03</td>\n",
       "      <td>2025-10-14</td>\n",
       "      <td>1</td>\n",
       "      <td>0</td>\n",
       "      <td>3</td>\n",
       "      <td>CIS</td>\n",
       "      <td>iPhone</td>\n",
       "      <td>A</td>\n",
       "    </tr>\n",
       "    <tr>\n",
       "      <th>3</th>\n",
       "      <td>D6AF8D78297A931F</td>\n",
       "      <td>CF0AC0EEDE92C690</td>\n",
       "      <td>2025-10-14</td>\n",
       "      <td>2025-10-14 19:07:55</td>\n",
       "      <td>2025-10-14</td>\n",
       "      <td>1</td>\n",
       "      <td>0</td>\n",
       "      <td>4</td>\n",
       "      <td>CIS</td>\n",
       "      <td>PC</td>\n",
       "      <td>A</td>\n",
       "    </tr>\n",
       "    <tr>\n",
       "      <th>4</th>\n",
       "      <td>37E0CE723AE568E0</td>\n",
       "      <td>2E6ED45E8C86C4E9</td>\n",
       "      <td>2025-10-14</td>\n",
       "      <td>2025-10-14 15:39:44</td>\n",
       "      <td>2025-10-14</td>\n",
       "      <td>1</td>\n",
       "      <td>0</td>\n",
       "      <td>3</td>\n",
       "      <td>CIS</td>\n",
       "      <td>Mac</td>\n",
       "      <td>B</td>\n",
       "    </tr>\n",
       "  </tbody>\n",
       "</table>\n",
       "</div>"
      ],
      "text/plain": [
       "            user_id        session_id session_date     session_start_ts  \\\n",
       "0  3404844B53442747  B4901323BD537E45   2025-10-14  2025-10-14 19:28:49   \n",
       "1  3A2BF4D364E62D89  216FC619308F8788   2025-10-14  2025-10-14 21:11:04   \n",
       "2  79CDAE11E32B1597  EDFCE4AC1A504074   2025-10-14  2025-10-14 21:44:03   \n",
       "3  D6AF8D78297A931F  CF0AC0EEDE92C690   2025-10-14  2025-10-14 19:07:55   \n",
       "4  37E0CE723AE568E0  2E6ED45E8C86C4E9   2025-10-14  2025-10-14 15:39:44   \n",
       "\n",
       "  install_date  session_number  registration_flag  page_counter region  \\\n",
       "0   2025-10-14               1                  0             3    CIS   \n",
       "1   2025-10-14               1                  0             3   MENA   \n",
       "2   2025-10-14               1                  0             3    CIS   \n",
       "3   2025-10-14               1                  0             4    CIS   \n",
       "4   2025-10-14               1                  0             3    CIS   \n",
       "\n",
       "    device test_group  \n",
       "0  Android          B  \n",
       "1   iPhone          A  \n",
       "2   iPhone          A  \n",
       "3       PC          A  \n",
       "4      Mac          B  "
      ]
     },
     "execution_count": 21,
     "metadata": {},
     "output_type": "execute_result"
    }
   ],
   "source": [
    "# Информация для ознакомления\n",
    "print(sessions_test_part.info())\n",
    "sessions_test_part.head()"
   ]
  },
  {
   "cell_type": "code",
   "execution_count": 22,
   "metadata": {},
   "outputs": [
    {
     "data": {
      "text/plain": [
       "array(['2025-10-14'], dtype=object)"
      ]
     },
     "execution_count": 22,
     "metadata": {},
     "output_type": "execute_result"
    }
   ],
   "source": [
    "# Видим, что данные только за первый день тестирования\n",
    "sessions_test_part['session_date'].unique()"
   ]
  },
  {
   "cell_type": "code",
   "execution_count": 23,
   "metadata": {},
   "outputs": [
    {
     "data": {
      "text/plain": [
       "test_group\n",
       "A    1477\n",
       "B    1466\n",
       "Name: user_id, dtype: int64"
      ]
     },
     "execution_count": 23,
     "metadata": {},
     "output_type": "execute_result"
    }
   ],
   "source": [
    "# Количество уникальных пользователей в каждой из экспериментальных групп\n",
    "groups_total = sessions_test_part.groupby('test_group').user_id.nunique()\n",
    "groups_total"
   ]
  },
  {
   "cell_type": "code",
   "execution_count": 24,
   "metadata": {},
   "outputs": [
    {
     "name": "stdout",
     "output_type": "stream",
     "text": [
      "Процентная разница в количестве пользователей в группах A и B составляет -11 человек или 0.74% в пользу группы А\n"
     ]
    }
   ],
   "source": [
    "# Подсчет пользователей отдельно для групп A и B\n",
    "group_a_total = sessions_test_part[sessions_test_part['test_group'] == 'A'].user_id.nunique()\n",
    "group_b_total = sessions_test_part[sessions_test_part['test_group'] == 'B'].user_id.nunique()\n",
    "\n",
    "# Расчет разницы между группами\n",
    "grups_subtract = group_b_total - group_a_total\n",
    "groups_relation = (group_a_total - group_b_total) / group_a_total * 100\n",
    "\n",
    "print(f'Процентная разница в количестве пользователей в группах A и B составляет {grups_subtract} человек или {groups_relation:.2f}% в пользу группы А')"
   ]
  },
  {
   "cell_type": "code",
   "execution_count": 25,
   "metadata": {},
   "outputs": [
    {
     "data": {
      "image/png": "[encoded data removed]",
      "text/plain": [
       "<Figure size 640x480 with 1 Axes>"
      ]
     },
     "metadata": {},
     "output_type": "display_data"
    }
   ],
   "source": [
    "# Построение круговой диаграммы\n",
    "plt.pie(\n",
    "    groups_total, \n",
    "    labels=groups_total.index,\n",
    "    explode=[0.05, 0],\n",
    "    autopct='%.0f%%',\n",
    "    colors=['darkseagreen', 'seagreen'],\n",
    "    startangle=90)\n",
    "\n",
    "plt.title(\"Распределение пользователей по группам A и B\")\n",
    "plt.show()"
   ]
  },
  {
   "cell_type": "markdown",
   "metadata": {},
   "source": [
    "**Комментарий по данным в выборке**\n",
    "\n",
    "Данные относятся только к первому дню тестирования (14 октября 2025 года).\n",
    "\n",
    "Распределение пользователей между группами практически равное\n",
    "- Группа A: 1477 пользователей\n",
    "- Группа B: 1466 пользователей\n",
    "- Разница составляет всего 11 человек (0.74%) в пользу группы B\n",
    "\n",
    "Визуализация подтверждает равномерность - круговая диаграмма демонстрирует идеальное соотношение 50% на 50%.\n",
    "\n",
    "Сбалансированность выборки является хорошим показателем для A/B-тестирования, так как минимизирует влияние разницы в объеме групп на результаты эксперимента.\n"
   ]
  },
  {
   "cell_type": "markdown",
   "metadata": {
    "id": "sgpNY5bv0eM0"
   },
   "source": [
    "#### Проверка пересечений пользователей\n"
   ]
  },
  {
   "cell_type": "code",
   "execution_count": 26,
   "metadata": {
    "id": "E72ozN9FOX1u"
   },
   "outputs": [
    {
     "name": "stdout",
     "output_type": "stream",
     "text": [
      "Количество пользователей, которые встречаются одновременно в группах A и B = 0 человек\n"
     ]
    }
   ],
   "source": [
    "filtered_groups = sessions_test_part[(sessions_test_part['test_group'] == 'A') & (sessions_test_part['test_group'] == 'B')].shape[0]\n",
    "print(f'Количество пользователей, которые встречаются одновременно в группах A и B = {filtered_groups} человек')"
   ]
  },
  {
   "cell_type": "markdown",
   "metadata": {
    "id": "6RvkNLrg0eM1"
   },
   "source": [
    "#### Равномерность разделения пользователей по устройствам\n",
    "\n"
   ]
  },
  {
   "cell_type": "code",
   "execution_count": 27,
   "metadata": {},
   "outputs": [
    {
     "data": {
      "text/html": [
       "<div>\n",
       "<style scoped>\n",
       "    .dataframe tbody tr th:only-of-type {\n",
       "        vertical-align: middle;\n",
       "    }\n",
       "\n",
       "    .dataframe tbody tr th {\n",
       "        vertical-align: top;\n",
       "    }\n",
       "\n",
       "    .dataframe thead th {\n",
       "        text-align: right;\n",
       "    }\n",
       "</style>\n",
       "<table border=\"1\" class=\"dataframe\">\n",
       "  <thead>\n",
       "    <tr style=\"text-align: right;\">\n",
       "      <th></th>\n",
       "      <th>test_group</th>\n",
       "      <th>device</th>\n",
       "      <th>user_id</th>\n",
       "    </tr>\n",
       "  </thead>\n",
       "  <tbody>\n",
       "    <tr>\n",
       "      <th>0</th>\n",
       "      <td>A</td>\n",
       "      <td>Android</td>\n",
       "      <td>656</td>\n",
       "    </tr>\n",
       "    <tr>\n",
       "      <th>1</th>\n",
       "      <td>A</td>\n",
       "      <td>Mac</td>\n",
       "      <td>156</td>\n",
       "    </tr>\n",
       "    <tr>\n",
       "      <th>2</th>\n",
       "      <td>A</td>\n",
       "      <td>PC</td>\n",
       "      <td>369</td>\n",
       "    </tr>\n",
       "    <tr>\n",
       "      <th>3</th>\n",
       "      <td>A</td>\n",
       "      <td>iPhone</td>\n",
       "      <td>296</td>\n",
       "    </tr>\n",
       "    <tr>\n",
       "      <th>4</th>\n",
       "      <td>B</td>\n",
       "      <td>Android</td>\n",
       "      <td>668</td>\n",
       "    </tr>\n",
       "    <tr>\n",
       "      <th>5</th>\n",
       "      <td>B</td>\n",
       "      <td>Mac</td>\n",
       "      <td>148</td>\n",
       "    </tr>\n",
       "    <tr>\n",
       "      <th>6</th>\n",
       "      <td>B</td>\n",
       "      <td>PC</td>\n",
       "      <td>381</td>\n",
       "    </tr>\n",
       "    <tr>\n",
       "      <th>7</th>\n",
       "      <td>B</td>\n",
       "      <td>iPhone</td>\n",
       "      <td>269</td>\n",
       "    </tr>\n",
       "  </tbody>\n",
       "</table>\n",
       "</div>"
      ],
      "text/plain": [
       "  test_group   device  user_id\n",
       "0          A  Android      656\n",
       "1          A      Mac      156\n",
       "2          A       PC      369\n",
       "3          A   iPhone      296\n",
       "4          B  Android      668\n",
       "5          B      Mac      148\n",
       "6          B       PC      381\n",
       "7          B   iPhone      269"
      ]
     },
     "execution_count": 27,
     "metadata": {},
     "output_type": "execute_result"
    }
   ],
   "source": [
    "# Сгруппируем данные по обеим группам одновременно\n",
    "devices = sessions_test_part.groupby(['test_group', 'device']).user_id.nunique().reset_index()\n",
    "devices"
   ]
  },
  {
   "cell_type": "code",
   "execution_count": 28,
   "metadata": {},
   "outputs": [
    {
     "data": {
      "image/png": "[encoded data removed]",
      "text/plain": [
       "<Figure size 900x500 with 1 Axes>"
      ]
     },
     "metadata": {},
     "output_type": "display_data"
    }
   ],
   "source": [
    "# Визуализируем группу А и В\n",
    "plt.figure(figsize=(9, 5))\n",
    "\n",
    "sns.barplot(\n",
    "    x='device',\n",
    "    y='user_id',\n",
    "    data=devices,\n",
    "    hue='test_group',\n",
    "    palette='crest')\n",
    "\n",
    "plt.title('Количество пользователей по платформам')\n",
    "plt.xlabel('Платформа')\n",
    "plt.ylabel('Пользователи')\n",
    "plt.legend(title='Группа теста')\n",
    "plt.show()"
   ]
  },
  {
   "cell_type": "markdown",
   "metadata": {
    "id": "gAgmP6vo0eM1"
   },
   "source": [
    "#### Равномерность распределения пользователей по регионам"
   ]
  },
  {
   "cell_type": "code",
   "execution_count": 29,
   "metadata": {
    "id": "3hAq-FG4OdYM"
   },
   "outputs": [
    {
     "data": {
      "text/html": [
       "<div>\n",
       "<style scoped>\n",
       "    .dataframe tbody tr th:only-of-type {\n",
       "        vertical-align: middle;\n",
       "    }\n",
       "\n",
       "    .dataframe tbody tr th {\n",
       "        vertical-align: top;\n",
       "    }\n",
       "\n",
       "    .dataframe thead th {\n",
       "        text-align: right;\n",
       "    }\n",
       "</style>\n",
       "<table border=\"1\" class=\"dataframe\">\n",
       "  <thead>\n",
       "    <tr style=\"text-align: right;\">\n",
       "      <th></th>\n",
       "      <th>test_group</th>\n",
       "      <th>region</th>\n",
       "      <th>user_id</th>\n",
       "    </tr>\n",
       "  </thead>\n",
       "  <tbody>\n",
       "    <tr>\n",
       "      <th>0</th>\n",
       "      <td>A</td>\n",
       "      <td>CIS</td>\n",
       "      <td>644</td>\n",
       "    </tr>\n",
       "    <tr>\n",
       "      <th>1</th>\n",
       "      <td>A</td>\n",
       "      <td>EU</td>\n",
       "      <td>224</td>\n",
       "    </tr>\n",
       "    <tr>\n",
       "      <th>2</th>\n",
       "      <td>A</td>\n",
       "      <td>MENA</td>\n",
       "      <td>609</td>\n",
       "    </tr>\n",
       "    <tr>\n",
       "      <th>3</th>\n",
       "      <td>B</td>\n",
       "      <td>CIS</td>\n",
       "      <td>645</td>\n",
       "    </tr>\n",
       "    <tr>\n",
       "      <th>4</th>\n",
       "      <td>B</td>\n",
       "      <td>EU</td>\n",
       "      <td>217</td>\n",
       "    </tr>\n",
       "    <tr>\n",
       "      <th>5</th>\n",
       "      <td>B</td>\n",
       "      <td>MENA</td>\n",
       "      <td>604</td>\n",
       "    </tr>\n",
       "  </tbody>\n",
       "</table>\n",
       "</div>"
      ],
      "text/plain": [
       "  test_group region  user_id\n",
       "0          A    CIS      644\n",
       "1          A     EU      224\n",
       "2          A   MENA      609\n",
       "3          B    CIS      645\n",
       "4          B     EU      217\n",
       "5          B   MENA      604"
      ]
     },
     "execution_count": 29,
     "metadata": {},
     "output_type": "execute_result"
    }
   ],
   "source": [
    "# Сгруппируем данные по обеим группам одновременно\n",
    "regions = sessions_test_part.groupby(['test_group', 'region']).user_id.nunique().reset_index()\n",
    "regions"
   ]
  },
  {
   "cell_type": "code",
   "execution_count": 30,
   "metadata": {},
   "outputs": [
    {
     "data": {
      "image/png": "[encoded data removed]",
      "text/plain": [
       "<Figure size 900x500 with 1 Axes>"
      ]
     },
     "metadata": {},
     "output_type": "display_data"
    },
    {
     "data": {
      "text/plain": [
       "test_group\n",
       "A    1477\n",
       "B    1466\n",
       "Name: user_id, dtype: int64"
      ]
     },
     "execution_count": 30,
     "metadata": {},
     "output_type": "execute_result"
    }
   ],
   "source": [
    "# Визуализируем группу А и В\n",
    "plt.figure(figsize=(9, 5))\n",
    "\n",
    "sns.barplot(\n",
    "    y='region',\n",
    "    x='user_id',\n",
    "    data=regions,\n",
    "    hue='test_group',\n",
    "    palette='crest',\n",
    "    orient='h')\n",
    "\n",
    "plt.title('Количество пользователей по регионам')\n",
    "plt.xlabel('Пользователи')\n",
    "plt.ylabel('Регион')\n",
    "plt.legend(title='Группа теста')\n",
    "plt.show()\n",
    "\n",
    "# Отображение итоговых значений внизу графика\n",
    "sessions_test_part.groupby('test_group')['user_id'].nunique()\n"
   ]
  },
  {
   "cell_type": "markdown",
   "metadata": {
    "id": "dDELHlAcOi8d"
   },
   "source": [
    "\n",
    "#### **Промежуточный вывод**\n",
    "\n",
    "В ходе анализа обнаружено различие в размере тестовых групп:\n",
    "- Группа A: 1477 пользователя \n",
    "- Группа B: 1466 пользователей\n",
    "- Разница составляет 11 пользователей = 0.74% в относительном выражении, что является незначительным отклонением, учитывая размер выборки \n",
    "\n",
    "Независимость выборок\n",
    "- Согласно проведенной отдельной проверке на пересечение пользователей, не было обнаружено случаев попадания одного и того же пользователя в обе тестовые группы одновременно. Это подтверждает независимость выборок, что является важным условием для правильного проведения A/B-теста\n",
    "\n",
    "Распределение пользователей по категориальным переменным\n",
    "- Распределение по устройствам относительно равномерное, с минимальными отклонениями в районе 5-15 человек\n",
    "\n",
    "**На основании представленных данных можно заключить, что A/B-тест проходит корректно, поскольку выполняются все ключевые условия для достоверного тестирования**"
   ]
  },
  {
   "cell_type": "markdown",
   "metadata": {
    "id": "nudRr_BQ0eM2"
   },
   "source": [
    "### Проверка результатов A/B-теста\n"
   ]
  },
  {
   "cell_type": "markdown",
   "metadata": {
    "id": "JVve-YBB0eM2"
   },
   "source": [
    "#### Получение результатов теста и подсчёт основной метрики\n"
   ]
  },
  {
   "cell_type": "code",
   "execution_count": 31,
   "metadata": {
    "id": "EqRlwMtKPTir"
   },
   "outputs": [],
   "source": [
    "#Сохраняем в датафрейм наши данные со всего А/В теста\n",
    "try:\n",
    "    sessions_test = pd.read_csv('/home/ray/Загрузки/Ya.Practikum/Sprint_10 A-B/sessions_project_test.csv') \n",
    "except:\n",
    "    sessions_test = pd.read_csv('https://code.s3.yandex.net/datasets/sessions_project_test.csv')"
   ]
  },
  {
   "cell_type": "code",
   "execution_count": 32,
   "metadata": {},
   "outputs": [],
   "source": [
    "# Создаем новый столбец 'good_session'\n",
    "sessions_test['good_session'] = np.where(sessions_test['page_counter'] >= 4, 1, 0)"
   ]
  },
  {
   "cell_type": "code",
   "execution_count": 33,
   "metadata": {},
   "outputs": [
    {
     "name": "stdout",
     "output_type": "stream",
     "text": [
      "<class 'pandas.core.frame.DataFrame'>\n",
      "RangeIndex: 100005 entries, 0 to 100004\n",
      "Data columns (total 12 columns):\n",
      " #   Column             Non-Null Count   Dtype \n",
      "---  ------             --------------   ----- \n",
      " 0   user_id            100005 non-null  object\n",
      " 1   session_id         100005 non-null  object\n",
      " 2   session_date       100005 non-null  object\n",
      " 3   session_start_ts   100005 non-null  object\n",
      " 4   install_date       100005 non-null  object\n",
      " 5   session_number     100005 non-null  int64 \n",
      " 6   registration_flag  100005 non-null  int64 \n",
      " 7   page_counter       100005 non-null  int64 \n",
      " 8   region             100005 non-null  object\n",
      " 9   device             100005 non-null  object\n",
      " 10  test_group         100005 non-null  object\n",
      " 11  good_session       100005 non-null  int64 \n",
      "dtypes: int64(4), object(8)\n",
      "memory usage: 9.2+ MB\n",
      "None\n"
     ]
    },
    {
     "data": {
      "text/html": [
       "<div>\n",
       "<style scoped>\n",
       "    .dataframe tbody tr th:only-of-type {\n",
       "        vertical-align: middle;\n",
       "    }\n",
       "\n",
       "    .dataframe tbody tr th {\n",
       "        vertical-align: top;\n",
       "    }\n",
       "\n",
       "    .dataframe thead th {\n",
       "        text-align: right;\n",
       "    }\n",
       "</style>\n",
       "<table border=\"1\" class=\"dataframe\">\n",
       "  <thead>\n",
       "    <tr style=\"text-align: right;\">\n",
       "      <th></th>\n",
       "      <th>user_id</th>\n",
       "      <th>session_id</th>\n",
       "      <th>session_date</th>\n",
       "      <th>session_start_ts</th>\n",
       "      <th>install_date</th>\n",
       "      <th>session_number</th>\n",
       "      <th>registration_flag</th>\n",
       "      <th>page_counter</th>\n",
       "      <th>region</th>\n",
       "      <th>device</th>\n",
       "      <th>test_group</th>\n",
       "      <th>good_session</th>\n",
       "    </tr>\n",
       "  </thead>\n",
       "  <tbody>\n",
       "    <tr>\n",
       "      <th>0</th>\n",
       "      <td>6DAE3B3654DA738E</td>\n",
       "      <td>C69249E26E58F6E2</td>\n",
       "      <td>2025-10-26</td>\n",
       "      <td>2025-10-26 18:15:05</td>\n",
       "      <td>2025-10-16</td>\n",
       "      <td>3</td>\n",
       "      <td>0</td>\n",
       "      <td>3</td>\n",
       "      <td>MENA</td>\n",
       "      <td>Android</td>\n",
       "      <td>A</td>\n",
       "      <td>0</td>\n",
       "    </tr>\n",
       "    <tr>\n",
       "      <th>1</th>\n",
       "      <td>0A3FE5D1DD59110A</td>\n",
       "      <td>66D66D7C9F5181B7</td>\n",
       "      <td>2025-10-21</td>\n",
       "      <td>2025-10-21 17:04:53</td>\n",
       "      <td>2025-10-15</td>\n",
       "      <td>2</td>\n",
       "      <td>1</td>\n",
       "      <td>2</td>\n",
       "      <td>CIS</td>\n",
       "      <td>Android</td>\n",
       "      <td>B</td>\n",
       "      <td>0</td>\n",
       "    </tr>\n",
       "    <tr>\n",
       "      <th>2</th>\n",
       "      <td>2041F1D7AA740B88</td>\n",
       "      <td>50DE51D42215E74C</td>\n",
       "      <td>2025-10-23</td>\n",
       "      <td>2025-10-23 17:39:29</td>\n",
       "      <td>2025-10-19</td>\n",
       "      <td>3</td>\n",
       "      <td>0</td>\n",
       "      <td>2</td>\n",
       "      <td>MENA</td>\n",
       "      <td>Android</td>\n",
       "      <td>A</td>\n",
       "      <td>0</td>\n",
       "    </tr>\n",
       "    <tr>\n",
       "      <th>3</th>\n",
       "      <td>43D7585009168086</td>\n",
       "      <td>5763C0C353C22263</td>\n",
       "      <td>2025-10-24</td>\n",
       "      <td>2025-10-24 15:01:57</td>\n",
       "      <td>2025-10-18</td>\n",
       "      <td>4</td>\n",
       "      <td>0</td>\n",
       "      <td>1</td>\n",
       "      <td>CIS</td>\n",
       "      <td>iPhone</td>\n",
       "      <td>B</td>\n",
       "      <td>0</td>\n",
       "    </tr>\n",
       "    <tr>\n",
       "      <th>4</th>\n",
       "      <td>15AD68B14D62D88C</td>\n",
       "      <td>B1AD09F93C1053BC</td>\n",
       "      <td>2025-10-17</td>\n",
       "      <td>2025-10-17 17:34:39</td>\n",
       "      <td>2025-10-17</td>\n",
       "      <td>1</td>\n",
       "      <td>0</td>\n",
       "      <td>2</td>\n",
       "      <td>MENA</td>\n",
       "      <td>Android</td>\n",
       "      <td>B</td>\n",
       "      <td>0</td>\n",
       "    </tr>\n",
       "  </tbody>\n",
       "</table>\n",
       "</div>"
      ],
      "text/plain": [
       "            user_id        session_id session_date     session_start_ts  \\\n",
       "0  6DAE3B3654DA738E  C69249E26E58F6E2   2025-10-26  2025-10-26 18:15:05   \n",
       "1  0A3FE5D1DD59110A  66D66D7C9F5181B7   2025-10-21  2025-10-21 17:04:53   \n",
       "2  2041F1D7AA740B88  50DE51D42215E74C   2025-10-23  2025-10-23 17:39:29   \n",
       "3  43D7585009168086  5763C0C353C22263   2025-10-24  2025-10-24 15:01:57   \n",
       "4  15AD68B14D62D88C  B1AD09F93C1053BC   2025-10-17  2025-10-17 17:34:39   \n",
       "\n",
       "  install_date  session_number  registration_flag  page_counter region  \\\n",
       "0   2025-10-16               3                  0             3   MENA   \n",
       "1   2025-10-15               2                  1             2    CIS   \n",
       "2   2025-10-19               3                  0             2   MENA   \n",
       "3   2025-10-18               4                  0             1    CIS   \n",
       "4   2025-10-17               1                  0             2   MENA   \n",
       "\n",
       "    device test_group  good_session  \n",
       "0  Android          A             0  \n",
       "1  Android          B             0  \n",
       "2  Android          A             0  \n",
       "3   iPhone          B             0  \n",
       "4  Android          B             0  "
      ]
     },
     "execution_count": 33,
     "metadata": {},
     "output_type": "execute_result"
    }
   ],
   "source": [
    "print(sessions_test.info())\n",
    "sessions_test.head()"
   ]
  },
  {
   "cell_type": "markdown",
   "metadata": {
    "id": "aeYhrMYy0eM2"
   },
   "source": [
    "#### Проверка корректности результатов теста\n"
   ]
  },
  {
   "cell_type": "code",
   "execution_count": 34,
   "metadata": {
    "id": "5NUlcltkTTSU"
   },
   "outputs": [],
   "source": [
    "# Количество уникальных сессий для каждого дня и обеих тестовых групп\n",
    "st_grouped = sessions_test.groupby(['session_date', 'test_group']).session_id.nunique().reset_index()"
   ]
  },
  {
   "cell_type": "code",
   "execution_count": 35,
   "metadata": {},
   "outputs": [
    {
     "name": "stdout",
     "output_type": "stream",
     "text": [
      "p-value = 0.9382195854082714\n",
      "Нулевая гипотеза верна! Выборки похожи и однородны, а значит можно приступать к анализу\n"
     ]
    }
   ],
   "source": [
    "# Группируем данные для тест Уэлча\n",
    "group_a_total = st_grouped[st_grouped['test_group'] == 'A']['session_id']\n",
    "group_b_total = st_grouped[st_grouped['test_group'] == 'B']['session_id']\n",
    "\n",
    "# Проводим тест\n",
    "st_grouped_welch = ttest_ind(\n",
    "    group_a_total,\n",
    "    group_b_total,\n",
    "    equal_var=False,\n",
    "    alternative='two-sided'\n",
    ")\n",
    "\n",
    "alpha = 0.05\n",
    "\n",
    "if st_grouped_welch.pvalue > alpha:\n",
    "    print(f'p-value = {st_grouped_welch.pvalue}')\n",
    "    print('Нулевая гипотеза верна! Выборки похожи и однородны, а значит можно приступать к анализу')\n",
    "else:\n",
    "    print(f'p-value = {st_grouped_welch.pvalue}')\n",
    "    print('Нулевая гипотеза неверна! Выборки крайне различны и неоднородны')"
   ]
  },
  {
   "cell_type": "markdown",
   "metadata": {
    "id": "7kwRxzg70eM3"
   },
   "source": [
    "#### Сравнение доли успешных сессий"
   ]
  },
  {
   "cell_type": "code",
   "execution_count": 36,
   "metadata": {
    "id": "Uku-V1CpPRCz"
   },
   "outputs": [],
   "source": [
    "# Создаем датафрейм для работы\n",
    "st_good_agg = (\n",
    "    sessions_test\n",
    "    .groupby('test_group')\n",
    "    .agg(\n",
    "        good_sessions=('good_session', 'sum'),\n",
    "        total_sessions=('good_session', 'count'))\n",
    "    .reset_index()\n",
    ")"
   ]
  },
  {
   "cell_type": "code",
   "execution_count": 37,
   "metadata": {},
   "outputs": [],
   "source": [
    "# Считаем отношение\n",
    "st_good_agg['relation'] = st_good_agg['good_sessions'] / st_good_agg['total_sessions'] * 100"
   ]
  },
  {
   "cell_type": "code",
   "execution_count": 38,
   "metadata": {},
   "outputs": [
    {
     "data": {
      "text/html": [
       "<div>\n",
       "<style scoped>\n",
       "    .dataframe tbody tr th:only-of-type {\n",
       "        vertical-align: middle;\n",
       "    }\n",
       "\n",
       "    .dataframe tbody tr th {\n",
       "        vertical-align: top;\n",
       "    }\n",
       "\n",
       "    .dataframe thead th {\n",
       "        text-align: right;\n",
       "    }\n",
       "</style>\n",
       "<table border=\"1\" class=\"dataframe\">\n",
       "  <thead>\n",
       "    <tr style=\"text-align: right;\">\n",
       "      <th></th>\n",
       "      <th>test_group</th>\n",
       "      <th>good_sessions</th>\n",
       "      <th>total_sessions</th>\n",
       "      <th>relation</th>\n",
       "    </tr>\n",
       "  </thead>\n",
       "  <tbody>\n",
       "    <tr>\n",
       "      <th>0</th>\n",
       "      <td>A</td>\n",
       "      <td>15248</td>\n",
       "      <td>49551</td>\n",
       "      <td>30.772336</td>\n",
       "    </tr>\n",
       "    <tr>\n",
       "      <th>1</th>\n",
       "      <td>B</td>\n",
       "      <td>16059</td>\n",
       "      <td>50454</td>\n",
       "      <td>31.828993</td>\n",
       "    </tr>\n",
       "  </tbody>\n",
       "</table>\n",
       "</div>"
      ],
      "text/plain": [
       "  test_group  good_sessions  total_sessions   relation\n",
       "0          A          15248           49551  30.772336\n",
       "1          B          16059           50454  31.828993"
      ]
     },
     "execution_count": 38,
     "metadata": {},
     "output_type": "execute_result"
    }
   ],
   "source": [
    "# Итоговые данные по двум тестовым группам\n",
    "st_good_agg"
   ]
  },
  {
   "cell_type": "code",
   "execution_count": 39,
   "metadata": {},
   "outputs": [
    {
     "data": {
      "image/png": "[encoded data removed]",
      "text/plain": [
       "<Figure size 500x500 with 1 Axes>"
      ]
     },
     "metadata": {},
     "output_type": "display_data"
    }
   ],
   "source": [
    "# Визуализируем\n",
    "plt.figure(figsize=(5, 5))\n",
    "\n",
    "sns.barplot(\n",
    "    x='test_group',\n",
    "    y='relation',\n",
    "    data=st_good_agg,\n",
    "    hue='test_group',\n",
    "    palette='crest',\n",
    "    legend=False)\n",
    "\n",
    "plt.title('Пользователи, просмотревшие 4+ страниц по группам')\n",
    "plt.xlabel('Группа')\n",
    "plt.ylabel('Процент \"хороших\" сессий (%)')\n",
    "plt.ylim(0, 40)\n",
    "plt.tight_layout()"
   ]
  },
  {
   "cell_type": "code",
   "execution_count": 40,
   "metadata": {},
   "outputs": [
    {
     "name": "stdout",
     "output_type": "stream",
     "text": [
      "Доля успешных сессий в группе А = 0.308. Доля успешных сессий в группе Б 0.318. Разница составляет 0.011.\n"
     ]
    }
   ],
   "source": [
    "# Доля успешных сессий в группе А\n",
    "good_sessions_ratio_A = sessions_test[sessions_test.test_group=='A'].good_session.mean()\n",
    "\n",
    "# Доля успешных сессий в группе Б\n",
    "good_sessions_ratio_B = sessions_test[sessions_test.test_group=='B'].good_session.mean()\n",
    "\n",
    "# Абсолютная разница в доле успешных сессий в группвх А и БB\n",
    "good_sessions_delta = good_sessions_ratio_B - good_sessions_ratio_A\n",
    "print(f\"Доля успешных сессий в группе А = {good_sessions_ratio_A:.3f}. Доля успешных сессий в группе Б {good_sessions_ratio_B:.3f}. Разница составляет {good_sessions_delta:.3f}.\")"
   ]
  },
  {
   "cell_type": "markdown",
   "metadata": {
    "id": "9fMFuja10eM4"
   },
   "source": [
    "#### Насколько статистически значимо изменение ключевой метрики\n"
   ]
  },
  {
   "cell_type": "code",
   "execution_count": 41,
   "metadata": {},
   "outputs": [],
   "source": [
    "# Создаем переменные с нашими данными о количестве \"успешных сессий\" и их общего количества\n",
    "m_a = st_good_agg[st_good_agg['test_group'] == 'A'].good_sessions\n",
    "n_a = st_good_agg[st_good_agg['test_group'] == 'A'].total_sessions\n",
    "\n",
    "m_b = st_good_agg[st_good_agg['test_group'] == 'B'].good_sessions\n",
    "n_b = st_good_agg[st_good_agg['test_group'] == 'B'].total_sessions"
   ]
  },
  {
   "cell_type": "code",
   "execution_count": 42,
   "metadata": {
    "id": "gFvhRGwlPLS0"
   },
   "outputs": [
    {
     "name": "stdout",
     "output_type": "stream",
     "text": [
      "p-value = [0.00015747]\n",
      "Нулевая гипотеза неверна! Изменение в метрике доли успешных сессий статистически значимо\n"
     ]
    }
   ],
   "source": [
    "# Проводим тест\n",
    "st_ztest, st_ztest_pvalue = proportions_ztest(\n",
    "    [m_a, m_b],\n",
    "    [n_a, n_b],\n",
    "    alternative='smaller')\n",
    "\n",
    "alpha = 0.05\n",
    "\n",
    "if st_ztest_pvalue > alpha:\n",
    "    print(f'p-value = {st_ztest_pvalue}')\n",
    "    print('Нулевая гипотеза верна! Изменение в метрике доли успешных сессий статистически незначительно')\n",
    "else:\n",
    "    print(f'p-value = {st_ztest_pvalue}')\n",
    "    print('Нулевая гипотеза неверна! Изменение в метрике доли успешных сессий статистически значимо')"
   ]
  },
  {
   "cell_type": "markdown",
   "metadata": {
    "id": "GnJrkY9Q63zS"
   },
   "source": [
    "#### Вывод по результатам A/B-эксперимента\n",
    "\n",
    "На основе проведённого анализа результатов теста сформулируйте и запишите свои выводы для команды разработки приложения. В выводе обязательно укажите:\n",
    "- Характеристики проведённого эксперимента, количество задействованных пользователей и длительность эксперимента.\n",
    "- Повлияло ли внедрение нового алгоритма рекомендаций на рост ключевой метрики и как.\n",
    "- Каким получилось значение p-value для оценки статистической значимости выявленного эффекта.\n",
    "- Стоит ли внедрять новоовведение в приложение."
   ]
  },
  {
   "cell_type": "markdown",
   "metadata": {},
   "source": [
    "# Вывод по результатам A/B-эксперимента\n",
    "\n",
    "## Общее распределение пользователей\n",
    "\n",
    "Анализ данных показывает, что распределение пользователей между группами A и B получилось практически равным, независимым и сбалансированным:\n",
    "- Группа A: 1477 пользователей (Android: 656, Mac: 156, PC: 369, iPhone: 296)\n",
    "- Группа B: 1466 пользователей (Android: 668, Mac: 148, PC: 381, iPhone: 269)\n",
    "\n",
    "Распределение по регионам также сбалансировано:\n",
    "- Группа A: CIS (644), EU (224), MENA (609)\n",
    "- Группа B: CIS (645), EU (217), MENA (604)\n",
    "\n",
    "## Результаты по ключевым метрикам\n",
    "\n",
    "Основная метрика эксперимента - доля \"хороших\" сессий (когда пользователь просматривает 4 и более страниц):\n",
    "\n",
    "- Группа A: 15248 хороших сессий из 49551 всего (30,77%)\n",
    "- Группа B: 16059 хороших сессий из 50454 всего (31,83%)\n",
    "- Таким образом мы видим существенную разницу на столь большой выборке, которую нельзя объяснить простой случайностью\n",
    "\n",
    "## Статистическая значимость\n",
    "\n",
    "- Группа B демонстрирует улучшение показателя \"хороших\" сессий на 1,06 процентных пункта по сравнению с группой A. При объеме выборки почти в 50000 сессий в каждой группе эта разница является статистически значимой.\n",
    "- Полученное значение p-value составило 0.00015, что значительно ниже общепринятого порога статистической значимости 0,05. Это позволяет **с уверенностью 99% утверждать, что наблюдаемый положительный эффект от внедрения нового алгоритма рекомендаций является достоверным и не может быть объяснен случайными колебаниями данных**.\n",
    "\n",
    "## Влияние на бизнес-показатели\n",
    "\n",
    "Увеличение доли \"хороших\" сессий на 1,06% может привести к значительному улучшению ключевых бизнес-метрик:\n",
    "- Более глубокое взаимодействие пользователей с продуктом\n",
    "- Потенциальное увеличение конверсии в целевые действия\n",
    "- Рост LTV пользователей за счет более длительных и качественных сессий\n",
    "\n",
    "## Заключение и рекомендации\n",
    "**Внедрение изменений**: Рекомендуется внедрить изменения тестовой группы B в основной продукт, так как они положительно влияют на глубину взаимодействия пользователей.\n",
    "**Следующие шаги**: Рассмотреть возможность проведения дополнительных тестов для дальнейшей оптимизации пользовательского взаимодействия с фокусом на увеличение глубины просмотра.\n",
    "\n",
    "Полученные результаты демонстрируют успешность внедренных изменений и обосновывают решение о полномасштабном запуске новой версии продукта."
   ]
  }
 ],
 "metadata": {
  "ExecuteTimeLog": [
   {
    "duration": 1258,
    "start_time": "2025-03-18T11:25:33.816Z"
   },
   {
    "duration": 0,
    "start_time": "2025-03-18T11:25:35.078Z"
   },
   {
    "duration": 0,
    "start_time": "2025-03-18T11:25:35.079Z"
   },
   {
    "duration": 0,
    "start_time": "2025-03-18T11:25:35.080Z"
   },
   {
    "duration": 0,
    "start_time": "2025-03-18T11:25:35.082Z"
   },
   {
    "duration": 0,
    "start_time": "2025-03-18T11:25:35.084Z"
   },
   {
    "duration": 0,
    "start_time": "2025-03-18T11:25:35.085Z"
   },
   {
    "duration": 0,
    "start_time": "2025-03-18T11:25:35.087Z"
   },
   {
    "duration": 0,
    "start_time": "2025-03-18T11:25:35.089Z"
   },
   {
    "duration": 0,
    "start_time": "2025-03-18T11:25:35.091Z"
   },
   {
    "duration": 0,
    "start_time": "2025-03-18T11:25:35.092Z"
   },
   {
    "duration": 0,
    "start_time": "2025-03-18T11:25:35.094Z"
   },
   {
    "duration": 0,
    "start_time": "2025-03-18T11:25:35.095Z"
   },
   {
    "duration": 0,
    "start_time": "2025-03-18T11:25:35.096Z"
   },
   {
    "duration": 0,
    "start_time": "2025-03-18T11:25:35.098Z"
   },
   {
    "duration": 0,
    "start_time": "2025-03-18T11:25:35.099Z"
   },
   {
    "duration": 1,
    "start_time": "2025-03-18T11:25:35.100Z"
   },
   {
    "duration": 0,
    "start_time": "2025-03-18T11:25:35.102Z"
   },
   {
    "duration": 0,
    "start_time": "2025-03-18T11:25:35.104Z"
   },
   {
    "duration": 0,
    "start_time": "2025-03-18T11:25:35.105Z"
   },
   {
    "duration": 0,
    "start_time": "2025-03-18T11:25:35.107Z"
   },
   {
    "duration": 0,
    "start_time": "2025-03-18T11:25:35.108Z"
   },
   {
    "duration": 0,
    "start_time": "2025-03-18T11:25:35.160Z"
   },
   {
    "duration": 0,
    "start_time": "2025-03-18T11:25:35.162Z"
   },
   {
    "duration": 0,
    "start_time": "2025-03-18T11:25:35.163Z"
   },
   {
    "duration": 0,
    "start_time": "2025-03-18T11:25:35.165Z"
   },
   {
    "duration": 0,
    "start_time": "2025-03-18T11:25:35.166Z"
   },
   {
    "duration": 0,
    "start_time": "2025-03-18T11:25:35.167Z"
   },
   {
    "duration": 0,
    "start_time": "2025-03-18T11:25:35.169Z"
   },
   {
    "duration": 0,
    "start_time": "2025-03-18T11:25:35.170Z"
   },
   {
    "duration": 0,
    "start_time": "2025-03-18T11:25:35.173Z"
   },
   {
    "duration": 0,
    "start_time": "2025-03-18T11:25:35.174Z"
   },
   {
    "duration": 0,
    "start_time": "2025-03-18T11:25:35.177Z"
   },
   {
    "duration": 1,
    "start_time": "2025-03-18T11:25:35.178Z"
   },
   {
    "duration": 0,
    "start_time": "2025-03-18T11:25:35.181Z"
   },
   {
    "duration": 0,
    "start_time": "2025-03-18T11:25:35.182Z"
   },
   {
    "duration": 0,
    "start_time": "2025-03-18T11:25:35.184Z"
   },
   {
    "duration": 0,
    "start_time": "2025-03-18T11:25:35.186Z"
   },
   {
    "duration": 0,
    "start_time": "2025-03-18T11:25:35.187Z"
   },
   {
    "duration": 0,
    "start_time": "2025-03-18T11:25:35.189Z"
   },
   {
    "duration": 167395,
    "start_time": "2025-03-18T11:25:57.199Z"
   },
   {
    "duration": 4696,
    "start_time": "2025-03-18T11:28:44.597Z"
   },
   {
    "duration": 5506,
    "start_time": "2025-03-18T11:28:49.294Z"
   },
   {
    "duration": 168,
    "start_time": "2025-03-18T11:28:54.802Z"
   },
   {
    "duration": 258,
    "start_time": "2025-03-18T11:28:54.972Z"
   },
   {
    "duration": 173,
    "start_time": "2025-03-18T11:28:55.233Z"
   },
   {
    "duration": 2,
    "start_time": "2025-03-18T11:28:55.408Z"
   },
   {
    "duration": 4,
    "start_time": "2025-03-18T11:28:55.412Z"
   },
   {
    "duration": 556,
    "start_time": "2025-03-18T11:28:55.418Z"
   },
   {
    "duration": 3,
    "start_time": "2025-03-18T11:28:55.976Z"
   },
   {
    "duration": 522,
    "start_time": "2025-03-18T11:28:55.981Z"
   },
   {
    "duration": 8,
    "start_time": "2025-03-18T11:28:56.505Z"
   },
   {
    "duration": 248,
    "start_time": "2025-03-18T11:28:56.514Z"
   },
   {
    "duration": 7,
    "start_time": "2025-03-18T11:28:56.765Z"
   },
   {
    "duration": 200,
    "start_time": "2025-03-18T11:28:56.773Z"
   },
   {
    "duration": 458,
    "start_time": "2025-03-18T11:28:56.975Z"
   },
   {
    "duration": 923,
    "start_time": "2025-03-18T11:28:57.436Z"
   },
   {
    "duration": 904,
    "start_time": "2025-03-18T11:28:58.360Z"
   },
   {
    "duration": 1517,
    "start_time": "2025-03-18T11:28:59.266Z"
   },
   {
    "duration": 2026,
    "start_time": "2025-03-18T11:29:00.785Z"
   },
   {
    "duration": 859,
    "start_time": "2025-03-18T11:29:02.813Z"
   },
   {
    "duration": 15,
    "start_time": "2025-03-18T11:29:03.674Z"
   },
   {
    "duration": 7,
    "start_time": "2025-03-18T11:29:03.691Z"
   },
   {
    "duration": 83,
    "start_time": "2025-03-18T11:29:03.700Z"
   },
   {
    "duration": 6,
    "start_time": "2025-03-18T11:29:03.785Z"
   },
   {
    "duration": 23,
    "start_time": "2025-03-18T11:29:03.794Z"
   },
   {
    "duration": 228,
    "start_time": "2025-03-18T11:29:03.819Z"
   },
   {
    "duration": 18,
    "start_time": "2025-03-18T11:29:04.049Z"
   },
   {
    "duration": 212,
    "start_time": "2025-03-18T11:29:04.069Z"
   },
   {
    "duration": 1320,
    "start_time": "2025-03-18T11:29:04.283Z"
   },
   {
    "duration": 5,
    "start_time": "2025-03-18T11:29:05.605Z"
   },
   {
    "duration": 66,
    "start_time": "2025-03-18T11:29:05.612Z"
   },
   {
    "duration": 34,
    "start_time": "2025-03-18T11:29:05.680Z"
   },
   {
    "duration": 15,
    "start_time": "2025-03-18T11:29:05.716Z"
   },
   {
    "duration": 40,
    "start_time": "2025-03-18T11:29:05.732Z"
   },
   {
    "duration": 4,
    "start_time": "2025-03-18T11:29:05.774Z"
   },
   {
    "duration": 8,
    "start_time": "2025-03-18T11:29:05.780Z"
   },
   {
    "duration": 5,
    "start_time": "2025-03-18T11:29:05.790Z"
   },
   {
    "duration": 372,
    "start_time": "2025-03-18T11:29:05.796Z"
   },
   {
    "duration": 8,
    "start_time": "2025-03-18T11:29:06.170Z"
   },
   {
    "duration": 56,
    "start_time": "2025-03-18T11:29:06.182Z"
   },
   {
    "duration": 35,
    "start_time": "2025-03-18T11:40:27.052Z"
   },
   {
    "duration": 4,
    "start_time": "2025-03-18T11:44:00.630Z"
   },
   {
    "duration": 5,
    "start_time": "2025-03-18T11:44:20.692Z"
   },
   {
    "duration": 7,
    "start_time": "2025-03-18T11:44:25.371Z"
   },
   {
    "duration": 5,
    "start_time": "2025-03-18T11:46:16.920Z"
   },
   {
    "duration": 3,
    "start_time": "2025-03-18T11:46:26.239Z"
   },
   {
    "duration": 20,
    "start_time": "2025-03-18T11:46:36.338Z"
   },
   {
    "duration": 4,
    "start_time": "2025-03-18T11:47:14.377Z"
   },
   {
    "duration": 4,
    "start_time": "2025-03-18T11:47:18.848Z"
   },
   {
    "duration": 24,
    "start_time": "2025-03-18T11:48:06.445Z"
   },
   {
    "duration": 20,
    "start_time": "2025-03-18T11:48:10.497Z"
   },
   {
    "duration": 34,
    "start_time": "2025-03-18T11:48:11.626Z"
   },
   {
    "duration": 27,
    "start_time": "2025-03-18T11:48:21.211Z"
   },
   {
    "duration": 26,
    "start_time": "2025-03-18T11:48:29.107Z"
   },
   {
    "duration": 2236,
    "start_time": "2025-03-18T11:48:55.107Z"
   },
   {
    "duration": 8,
    "start_time": "2025-03-18T11:49:25.600Z"
   },
   {
    "duration": 31362,
    "start_time": "2025-03-18T13:38:12.386Z"
   },
   {
    "duration": 681,
    "start_time": "2025-03-18T13:38:43.750Z"
   },
   {
    "duration": 0,
    "start_time": "2025-03-18T13:38:44.435Z"
   },
   {
    "duration": 0,
    "start_time": "2025-03-18T13:38:44.437Z"
   },
   {
    "duration": 0,
    "start_time": "2025-03-18T13:38:44.438Z"
   },
   {
    "duration": 0,
    "start_time": "2025-03-18T13:38:44.440Z"
   },
   {
    "duration": 0,
    "start_time": "2025-03-18T13:38:44.441Z"
   },
   {
    "duration": 0,
    "start_time": "2025-03-18T13:38:44.443Z"
   },
   {
    "duration": 0,
    "start_time": "2025-03-18T13:38:44.444Z"
   },
   {
    "duration": 0,
    "start_time": "2025-03-18T13:38:44.445Z"
   },
   {
    "duration": 0,
    "start_time": "2025-03-18T13:38:44.446Z"
   },
   {
    "duration": 0,
    "start_time": "2025-03-18T13:38:44.447Z"
   },
   {
    "duration": 0,
    "start_time": "2025-03-18T13:38:44.449Z"
   },
   {
    "duration": 0,
    "start_time": "2025-03-18T13:38:44.449Z"
   },
   {
    "duration": 0,
    "start_time": "2025-03-18T13:38:44.450Z"
   },
   {
    "duration": 0,
    "start_time": "2025-03-18T13:38:44.452Z"
   },
   {
    "duration": 0,
    "start_time": "2025-03-18T13:38:44.453Z"
   },
   {
    "duration": 0,
    "start_time": "2025-03-18T13:38:44.453Z"
   },
   {
    "duration": 0,
    "start_time": "2025-03-18T13:38:44.454Z"
   },
   {
    "duration": 0,
    "start_time": "2025-03-18T13:38:44.455Z"
   },
   {
    "duration": 0,
    "start_time": "2025-03-18T13:38:44.456Z"
   },
   {
    "duration": 0,
    "start_time": "2025-03-18T13:38:44.457Z"
   },
   {
    "duration": 0,
    "start_time": "2025-03-18T13:38:44.458Z"
   },
   {
    "duration": 0,
    "start_time": "2025-03-18T13:38:44.459Z"
   },
   {
    "duration": 0,
    "start_time": "2025-03-18T13:38:44.460Z"
   },
   {
    "duration": 0,
    "start_time": "2025-03-18T13:38:44.461Z"
   },
   {
    "duration": 0,
    "start_time": "2025-03-18T13:38:44.462Z"
   },
   {
    "duration": 0,
    "start_time": "2025-03-18T13:38:44.464Z"
   },
   {
    "duration": 0,
    "start_time": "2025-03-18T13:38:44.464Z"
   },
   {
    "duration": 0,
    "start_time": "2025-03-18T13:38:44.465Z"
   },
   {
    "duration": 0,
    "start_time": "2025-03-18T13:38:44.467Z"
   },
   {
    "duration": 0,
    "start_time": "2025-03-18T13:38:44.468Z"
   },
   {
    "duration": 0,
    "start_time": "2025-03-18T13:38:44.469Z"
   },
   {
    "duration": 0,
    "start_time": "2025-03-18T13:38:44.469Z"
   },
   {
    "duration": 0,
    "start_time": "2025-03-18T13:38:44.470Z"
   },
   {
    "duration": 0,
    "start_time": "2025-03-18T13:38:44.471Z"
   },
   {
    "duration": 0,
    "start_time": "2025-03-18T13:38:44.473Z"
   },
   {
    "duration": 0,
    "start_time": "2025-03-18T13:38:44.474Z"
   },
   {
    "duration": 0,
    "start_time": "2025-03-18T13:38:44.474Z"
   },
   {
    "duration": 0,
    "start_time": "2025-03-18T13:38:44.475Z"
   },
   {
    "duration": 0,
    "start_time": "2025-03-18T13:38:44.476Z"
   },
   {
    "duration": 0,
    "start_time": "2025-03-18T13:38:44.477Z"
   },
   {
    "duration": 19800,
    "start_time": "2025-03-18T13:38:56.701Z"
   },
   {
    "duration": 13,
    "start_time": "2025-03-18T13:39:16.503Z"
   },
   {
    "duration": 0,
    "start_time": "2025-03-18T13:39:16.519Z"
   },
   {
    "duration": 0,
    "start_time": "2025-03-18T13:39:16.520Z"
   },
   {
    "duration": 0,
    "start_time": "2025-03-18T13:39:16.521Z"
   },
   {
    "duration": 0,
    "start_time": "2025-03-18T13:39:16.523Z"
   },
   {
    "duration": 0,
    "start_time": "2025-03-18T13:39:16.524Z"
   },
   {
    "duration": 0,
    "start_time": "2025-03-18T13:39:16.526Z"
   },
   {
    "duration": 0,
    "start_time": "2025-03-18T13:39:16.527Z"
   },
   {
    "duration": 0,
    "start_time": "2025-03-18T13:39:16.529Z"
   },
   {
    "duration": 0,
    "start_time": "2025-03-18T13:39:16.530Z"
   },
   {
    "duration": 0,
    "start_time": "2025-03-18T13:39:16.531Z"
   },
   {
    "duration": 0,
    "start_time": "2025-03-18T13:39:16.533Z"
   },
   {
    "duration": 0,
    "start_time": "2025-03-18T13:39:16.534Z"
   },
   {
    "duration": 0,
    "start_time": "2025-03-18T13:39:16.535Z"
   },
   {
    "duration": 0,
    "start_time": "2025-03-18T13:39:16.537Z"
   },
   {
    "duration": 0,
    "start_time": "2025-03-18T13:39:16.538Z"
   },
   {
    "duration": 0,
    "start_time": "2025-03-18T13:39:16.540Z"
   },
   {
    "duration": 0,
    "start_time": "2025-03-18T13:39:16.541Z"
   },
   {
    "duration": 0,
    "start_time": "2025-03-18T13:39:16.542Z"
   },
   {
    "duration": 0,
    "start_time": "2025-03-18T13:39:16.543Z"
   },
   {
    "duration": 0,
    "start_time": "2025-03-18T13:39:16.544Z"
   },
   {
    "duration": 0,
    "start_time": "2025-03-18T13:39:16.545Z"
   },
   {
    "duration": 0,
    "start_time": "2025-03-18T13:39:16.546Z"
   },
   {
    "duration": 0,
    "start_time": "2025-03-18T13:39:16.547Z"
   },
   {
    "duration": 0,
    "start_time": "2025-03-18T13:39:16.548Z"
   },
   {
    "duration": 0,
    "start_time": "2025-03-18T13:39:16.548Z"
   },
   {
    "duration": 0,
    "start_time": "2025-03-18T13:39:16.549Z"
   },
   {
    "duration": 0,
    "start_time": "2025-03-18T13:39:16.550Z"
   },
   {
    "duration": 0,
    "start_time": "2025-03-18T13:39:16.551Z"
   },
   {
    "duration": 0,
    "start_time": "2025-03-18T13:39:16.552Z"
   },
   {
    "duration": 0,
    "start_time": "2025-03-18T13:39:16.553Z"
   },
   {
    "duration": 0,
    "start_time": "2025-03-18T13:39:16.554Z"
   },
   {
    "duration": 0,
    "start_time": "2025-03-18T13:39:16.555Z"
   },
   {
    "duration": 0,
    "start_time": "2025-03-18T13:39:16.556Z"
   },
   {
    "duration": 0,
    "start_time": "2025-03-18T13:39:16.557Z"
   },
   {
    "duration": 0,
    "start_time": "2025-03-18T13:39:16.558Z"
   },
   {
    "duration": 0,
    "start_time": "2025-03-18T13:39:16.559Z"
   },
   {
    "duration": 0,
    "start_time": "2025-03-18T13:39:16.560Z"
   },
   {
    "duration": 0,
    "start_time": "2025-03-18T13:39:16.562Z"
   },
   {
    "duration": 0,
    "start_time": "2025-03-18T13:39:16.562Z"
   },
   {
    "duration": 0,
    "start_time": "2025-03-18T13:39:16.563Z"
   }
  ],
  "colab": {
   "provenance": []
  },
  "kernelspec": {
   "display_name": "Python 3",
   "language": "python",
   "name": "python3"
  },
  "language_info": {
   "codemirror_mode": {
    "name": "ipython",
    "version": 3
   },
   "file_extension": ".py",
   "mimetype": "text/x-python",
   "name": "python",
   "nbconvert_exporter": "python",
   "pygments_lexer": "ipython3",
   "version": "3.13.7"
  },
  "toc": {
   "base_numbering": 1,
   "nav_menu": {},
   "number_sections": true,
   "sideBar": true,
   "skip_h1_title": true,
   "title_cell": "Table of Contents",
   "title_sidebar": "Contents",
   "toc_cell": false,
   "toc_position": {
    "height": "calc(100% - 180px)",
    "left": "10px",
    "top": "150px",
    "width": "305.404388px"
   },
   "toc_section_display": true,
   "toc_window_display": true
  }
 },
 "nbformat": 4,
 "nbformat_minor": 4
}
